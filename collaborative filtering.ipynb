{
 "cells": [
  {
   "cell_type": "code",
   "execution_count": 1,
   "metadata": {},
   "outputs": [],
   "source": [
    "import pandas as pd\n",
    "%matplotlib inline\n",
    "import matplotlib\n",
    "import matplotlib.pyplot as plt\n",
    "import numpy as np\n",
    "\n",
    "# pass in column names for each CSV as the column name is not given in the file and read them using pandas.\n",
    "# You can check the column names from the readme file\n",
    "\n",
    "#Reading users file:\n",
    "u_cols = ['user_id', 'venue_id']\n",
    "users1 = pd.read_csv('dataset_ubicomp2013_checkins.txt', sep='\\t', names=u_cols,encoding='latin-1')\n",
    "\n"
   ]
  },
  {
   "cell_type": "code",
   "execution_count": 2,
   "metadata": {},
   "outputs": [
    {
     "name": "stderr",
     "output_type": "stream",
     "text": [
      "/anaconda3/lib/python3.6/site-packages/h5py/__init__.py:36: FutureWarning: Conversion of the second argument of issubdtype from `float` to `np.floating` is deprecated. In future, it will be treated as `np.float64 == np.dtype(float).type`.\n",
      "  from ._conv import register_converters as _register_converters\n"
     ]
    }
   ],
   "source": [
    "import turicreate\n",
    "users2 = turicreate.SFrame(users1)\n",
    "training_data, validation_data = turicreate.recommender.util.random_split_by_user(users2, 'user_id', 'venue_id')\n",
    "\n"
   ]
  },
  {
   "cell_type": "code",
   "execution_count": 5,
   "metadata": {},
   "outputs": [
    {
     "data": {
      "text/html": [
       "<pre>Preparing data set.</pre>"
      ],
      "text/plain": [
       "Preparing data set."
      ]
     },
     "metadata": {},
     "output_type": "display_data"
    },
    {
     "data": {
      "text/html": [
       "<pre>    Data has 24537 observations with 2043 users and 2851 items.</pre>"
      ],
      "text/plain": [
       "    Data has 24537 observations with 2043 users and 2851 items."
      ]
     },
     "metadata": {},
     "output_type": "display_data"
    },
    {
     "data": {
      "text/html": [
       "<pre>    Data prepared in: 0.041113s</pre>"
      ],
      "text/plain": [
       "    Data prepared in: 0.041113s"
      ]
     },
     "metadata": {},
     "output_type": "display_data"
    },
    {
     "data": {
      "text/html": [
       "<pre>Training model from provided data.</pre>"
      ],
      "text/plain": [
       "Training model from provided data."
      ]
     },
     "metadata": {},
     "output_type": "display_data"
    },
    {
     "data": {
      "text/html": [
       "<pre>Gathering per-item and per-user statistics.</pre>"
      ],
      "text/plain": [
       "Gathering per-item and per-user statistics."
      ]
     },
     "metadata": {},
     "output_type": "display_data"
    },
    {
     "data": {
      "text/html": [
       "<pre>+--------------------------------+------------+</pre>"
      ],
      "text/plain": [
       "+--------------------------------+------------+"
      ]
     },
     "metadata": {},
     "output_type": "display_data"
    },
    {
     "data": {
      "text/html": [
       "<pre>| Elapsed Time (Item Statistics) | % Complete |</pre>"
      ],
      "text/plain": [
       "| Elapsed Time (Item Statistics) | % Complete |"
      ]
     },
     "metadata": {},
     "output_type": "display_data"
    },
    {
     "data": {
      "text/html": [
       "<pre>+--------------------------------+------------+</pre>"
      ],
      "text/plain": [
       "+--------------------------------+------------+"
      ]
     },
     "metadata": {},
     "output_type": "display_data"
    },
    {
     "data": {
      "text/html": [
       "<pre>| 3.629ms                        | 48.75      |</pre>"
      ],
      "text/plain": [
       "| 3.629ms                        | 48.75      |"
      ]
     },
     "metadata": {},
     "output_type": "display_data"
    },
    {
     "data": {
      "text/html": [
       "<pre>| 5.615ms                        | 100        |</pre>"
      ],
      "text/plain": [
       "| 5.615ms                        | 100        |"
      ]
     },
     "metadata": {},
     "output_type": "display_data"
    },
    {
     "data": {
      "text/html": [
       "<pre>+--------------------------------+------------+</pre>"
      ],
      "text/plain": [
       "+--------------------------------+------------+"
      ]
     },
     "metadata": {},
     "output_type": "display_data"
    },
    {
     "data": {
      "text/html": [
       "<pre>Setting up lookup tables.</pre>"
      ],
      "text/plain": [
       "Setting up lookup tables."
      ]
     },
     "metadata": {},
     "output_type": "display_data"
    },
    {
     "data": {
      "text/html": [
       "<pre>Processing data in one pass using dense lookup tables.</pre>"
      ],
      "text/plain": [
       "Processing data in one pass using dense lookup tables."
      ]
     },
     "metadata": {},
     "output_type": "display_data"
    },
    {
     "data": {
      "text/html": [
       "<pre>+-------------------------------------+------------------+-----------------+</pre>"
      ],
      "text/plain": [
       "+-------------------------------------+------------------+-----------------+"
      ]
     },
     "metadata": {},
     "output_type": "display_data"
    },
    {
     "data": {
      "text/html": [
       "<pre>| Elapsed Time (Constructing Lookups) | Total % Complete | Items Processed |</pre>"
      ],
      "text/plain": [
       "| Elapsed Time (Constructing Lookups) | Total % Complete | Items Processed |"
      ]
     },
     "metadata": {},
     "output_type": "display_data"
    },
    {
     "data": {
      "text/html": [
       "<pre>+-------------------------------------+------------------+-----------------+</pre>"
      ],
      "text/plain": [
       "+-------------------------------------+------------------+-----------------+"
      ]
     },
     "metadata": {},
     "output_type": "display_data"
    },
    {
     "data": {
      "text/html": [
       "<pre>| 45.713ms                            | 6.75             | 199             |</pre>"
      ],
      "text/plain": [
       "| 45.713ms                            | 6.75             | 199             |"
      ]
     },
     "metadata": {},
     "output_type": "display_data"
    },
    {
     "data": {
      "text/html": [
       "<pre>| 121.986ms                           | 100              | 2851            |</pre>"
      ],
      "text/plain": [
       "| 121.986ms                           | 100              | 2851            |"
      ]
     },
     "metadata": {},
     "output_type": "display_data"
    },
    {
     "data": {
      "text/html": [
       "<pre>+-------------------------------------+------------------+-----------------+</pre>"
      ],
      "text/plain": [
       "+-------------------------------------+------------------+-----------------+"
      ]
     },
     "metadata": {},
     "output_type": "display_data"
    },
    {
     "data": {
      "text/html": [
       "<pre>Finalizing lookup tables.</pre>"
      ],
      "text/plain": [
       "Finalizing lookup tables."
      ]
     },
     "metadata": {},
     "output_type": "display_data"
    },
    {
     "data": {
      "text/html": [
       "<pre>Generating candidate set for working with new users.</pre>"
      ],
      "text/plain": [
       "Generating candidate set for working with new users."
      ]
     },
     "metadata": {},
     "output_type": "display_data"
    },
    {
     "data": {
      "text/html": [
       "<pre>Finished training in 1.14215s</pre>"
      ],
      "text/plain": [
       "Finished training in 1.14215s"
      ]
     },
     "metadata": {},
     "output_type": "display_data"
    },
    {
     "data": {
      "text/html": [
       "<pre>recommendations finished on 1000/2043 queries. users per second: 38859.1</pre>"
      ],
      "text/plain": [
       "recommendations finished on 1000/2043 queries. users per second: 38859.1"
      ]
     },
     "metadata": {},
     "output_type": "display_data"
    },
    {
     "data": {
      "text/html": [
       "<pre>recommendations finished on 2000/2043 queries. users per second: 39847.8</pre>"
      ],
      "text/plain": [
       "recommendations finished on 2000/2043 queries. users per second: 39847.8"
      ]
     },
     "metadata": {},
     "output_type": "display_data"
    },
    {
     "name": "stdout",
     "output_type": "stream",
     "text": [
      "+---------+----------+----------------------+------+\n",
      "| user_id | venue_id |        score         | rank |\n",
      "+---------+----------+----------------------+------+\n",
      "|  35443  |  10261   | 0.10624215602874756  |  1   |\n",
      "|  35443  |  115446  | 0.10624215602874756  |  2   |\n",
      "|  35443  |  26052   | 0.10624215602874756  |  3   |\n",
      "|  35443  |  21231   | 0.10624215602874756  |  4   |\n",
      "|  35443  |  21038   |         0.1          |  5   |\n",
      "|  35443  |   917    |         0.1          |  6   |\n",
      "|  35443  |  11137   | 0.08164966106414795  |  7   |\n",
      "|  35443  |  11166   | 0.07512454986572266  |  8   |\n",
      "|  35443  |  15087   | 0.07512454986572266  |  9   |\n",
      "|  35443  |  72017   | 0.07512454986572266  |  10  |\n",
      "|  24973  |   1469   | 0.04444444179534912  |  1   |\n",
      "|  24973  |  16055   | 0.04444444179534912  |  2   |\n",
      "|  24973  |  17546   | 0.03999999761581421  |  3   |\n",
      "|  24973  |  58906   | 0.038490021228790285 |  4   |\n",
      "|  24973  |  72205   | 0.038490021228790285 |  5   |\n",
      "|  24973  |   1107   | 0.038490021228790285 |  6   |\n",
      "|  24973  |  23026   | 0.038490021228790285 |  7   |\n",
      "|  24973  |  144058  | 0.038490021228790285 |  8   |\n",
      "|  24973  |  29471   | 0.038490021228790285 |  9   |\n",
      "|  24973  |   5553   | 0.038490021228790285 |  10  |\n",
      "|  14860  |   243    | 0.06301330626010895  |  1   |\n",
      "|  14860  |  27515   | 0.06301330626010895  |  2   |\n",
      "|  14860  |  12500   | 0.06301330626010895  |  3   |\n",
      "|  14860  |  27553   | 0.06301330626010895  |  4   |\n",
      "|  14860  |  25883   | 0.06301330626010895  |  5   |\n",
      "+---------+----------+----------------------+------+\n",
      "[20430 rows x 4 columns]\n",
      "\n"
     ]
    }
   ],
   "source": [
    "#Training the model\n",
    "item_sim_model = turicreate.item_similarity_recommender.create(training_data,'user_id', item_id='venue_id',similarity_type='cosine')\n",
    "\n",
    "#Making recommendations\n",
    "item_sim_recomm = item_sim_model.recommend()\n",
    "item_sim_recomm.print_rows(num_rows=25)"
   ]
  },
  {
   "cell_type": "code",
   "execution_count": 8,
   "metadata": {},
   "outputs": [
    {
     "data": {
      "text/html": [
       "<pre>Preparing data set.</pre>"
      ],
      "text/plain": [
       "Preparing data set."
      ]
     },
     "metadata": {},
     "output_type": "display_data"
    },
    {
     "data": {
      "text/html": [
       "<pre>    Data has 24537 observations with 2851 users and 2043 items.</pre>"
      ],
      "text/plain": [
       "    Data has 24537 observations with 2851 users and 2043 items."
      ]
     },
     "metadata": {},
     "output_type": "display_data"
    },
    {
     "data": {
      "text/html": [
       "<pre>    Data prepared in: 0.043226s</pre>"
      ],
      "text/plain": [
       "    Data prepared in: 0.043226s"
      ]
     },
     "metadata": {},
     "output_type": "display_data"
    },
    {
     "data": {
      "text/html": [
       "<pre>Training model from provided data.</pre>"
      ],
      "text/plain": [
       "Training model from provided data."
      ]
     },
     "metadata": {},
     "output_type": "display_data"
    },
    {
     "data": {
      "text/html": [
       "<pre>Gathering per-item and per-user statistics.</pre>"
      ],
      "text/plain": [
       "Gathering per-item and per-user statistics."
      ]
     },
     "metadata": {},
     "output_type": "display_data"
    },
    {
     "data": {
      "text/html": [
       "<pre>+--------------------------------+------------+</pre>"
      ],
      "text/plain": [
       "+--------------------------------+------------+"
      ]
     },
     "metadata": {},
     "output_type": "display_data"
    },
    {
     "data": {
      "text/html": [
       "<pre>| Elapsed Time (Item Statistics) | % Complete |</pre>"
      ],
      "text/plain": [
       "| Elapsed Time (Item Statistics) | % Complete |"
      ]
     },
     "metadata": {},
     "output_type": "display_data"
    },
    {
     "data": {
      "text/html": [
       "<pre>+--------------------------------+------------+</pre>"
      ],
      "text/plain": [
       "+--------------------------------+------------+"
      ]
     },
     "metadata": {},
     "output_type": "display_data"
    },
    {
     "data": {
      "text/html": [
       "<pre>| 759us                          | 35         |</pre>"
      ],
      "text/plain": [
       "| 759us                          | 35         |"
      ]
     },
     "metadata": {},
     "output_type": "display_data"
    },
    {
     "data": {
      "text/html": [
       "<pre>| 1.393ms                        | 100        |</pre>"
      ],
      "text/plain": [
       "| 1.393ms                        | 100        |"
      ]
     },
     "metadata": {},
     "output_type": "display_data"
    },
    {
     "data": {
      "text/html": [
       "<pre>+--------------------------------+------------+</pre>"
      ],
      "text/plain": [
       "+--------------------------------+------------+"
      ]
     },
     "metadata": {},
     "output_type": "display_data"
    },
    {
     "data": {
      "text/html": [
       "<pre>Setting up lookup tables.</pre>"
      ],
      "text/plain": [
       "Setting up lookup tables."
      ]
     },
     "metadata": {},
     "output_type": "display_data"
    },
    {
     "data": {
      "text/html": [
       "<pre>Processing data in one pass using dense lookup tables.</pre>"
      ],
      "text/plain": [
       "Processing data in one pass using dense lookup tables."
      ]
     },
     "metadata": {},
     "output_type": "display_data"
    },
    {
     "data": {
      "text/html": [
       "<pre>+-------------------------------------+------------------+-----------------+</pre>"
      ],
      "text/plain": [
       "+-------------------------------------+------------------+-----------------+"
      ]
     },
     "metadata": {},
     "output_type": "display_data"
    },
    {
     "data": {
      "text/html": [
       "<pre>| Elapsed Time (Constructing Lookups) | Total % Complete | Items Processed |</pre>"
      ],
      "text/plain": [
       "| Elapsed Time (Constructing Lookups) | Total % Complete | Items Processed |"
      ]
     },
     "metadata": {},
     "output_type": "display_data"
    },
    {
     "data": {
      "text/html": [
       "<pre>+-------------------------------------+------------------+-----------------+</pre>"
      ],
      "text/plain": [
       "+-------------------------------------+------------------+-----------------+"
      ]
     },
     "metadata": {},
     "output_type": "display_data"
    },
    {
     "data": {
      "text/html": [
       "<pre>| 23.455ms                            | 0.25             | 7               |</pre>"
      ],
      "text/plain": [
       "| 23.455ms                            | 0.25             | 7               |"
      ]
     },
     "metadata": {},
     "output_type": "display_data"
    },
    {
     "data": {
      "text/html": [
       "<pre>| 94.971ms                            | 100              | 2043            |</pre>"
      ],
      "text/plain": [
       "| 94.971ms                            | 100              | 2043            |"
      ]
     },
     "metadata": {},
     "output_type": "display_data"
    },
    {
     "data": {
      "text/html": [
       "<pre>+-------------------------------------+------------------+-----------------+</pre>"
      ],
      "text/plain": [
       "+-------------------------------------+------------------+-----------------+"
      ]
     },
     "metadata": {},
     "output_type": "display_data"
    },
    {
     "data": {
      "text/html": [
       "<pre>Finalizing lookup tables.</pre>"
      ],
      "text/plain": [
       "Finalizing lookup tables."
      ]
     },
     "metadata": {},
     "output_type": "display_data"
    },
    {
     "data": {
      "text/html": [
       "<pre>Generating candidate set for working with new users.</pre>"
      ],
      "text/plain": [
       "Generating candidate set for working with new users."
      ]
     },
     "metadata": {},
     "output_type": "display_data"
    },
    {
     "data": {
      "text/html": [
       "<pre>Finished training in 0.104424s</pre>"
      ],
      "text/plain": [
       "Finished training in 0.104424s"
      ]
     },
     "metadata": {},
     "output_type": "display_data"
    },
    {
     "data": {
      "text/html": [
       "<pre>recommendations finished on 1000/2043 queries. users per second: 40332.3</pre>"
      ],
      "text/plain": [
       "recommendations finished on 1000/2043 queries. users per second: 40332.3"
      ]
     },
     "metadata": {},
     "output_type": "display_data"
    },
    {
     "data": {
      "text/html": [
       "<pre>recommendations finished on 2000/2043 queries. users per second: 36658.2</pre>"
      ],
      "text/plain": [
       "recommendations finished on 2000/2043 queries. users per second: 36658.2"
      ]
     },
     "metadata": {},
     "output_type": "display_data"
    },
    {
     "name": "stdout",
     "output_type": "stream",
     "text": [
      "+---------+----------+----------------------+------+\n",
      "| user_id | venue_id |        score         | rank |\n",
      "+---------+----------+----------------------+------+\n",
      "|  35443  |  10261   | 0.10624215602874756  |  1   |\n",
      "|  35443  |  115446  | 0.10624215602874756  |  2   |\n",
      "|  35443  |  26052   | 0.10624215602874756  |  3   |\n",
      "|  35443  |  21231   | 0.10624215602874756  |  4   |\n",
      "|  35443  |  21038   |         0.1          |  5   |\n",
      "|  35443  |   917    |         0.1          |  6   |\n",
      "|  35443  |  11137   | 0.08164966106414795  |  7   |\n",
      "|  35443  |  11166   | 0.07512454986572266  |  8   |\n",
      "|  35443  |  15087   | 0.07512454986572266  |  9   |\n",
      "|  35443  |  72017   | 0.07512454986572266  |  10  |\n",
      "|  24973  |   1469   | 0.04444444179534912  |  1   |\n",
      "|  24973  |  16055   | 0.04444444179534912  |  2   |\n",
      "|  24973  |  17546   | 0.03999999761581421  |  3   |\n",
      "|  24973  |  58906   | 0.038490021228790285 |  4   |\n",
      "|  24973  |  72205   | 0.038490021228790285 |  5   |\n",
      "|  24973  |   1107   | 0.038490021228790285 |  6   |\n",
      "|  24973  |  23026   | 0.038490021228790285 |  7   |\n",
      "|  24973  |  144058  | 0.038490021228790285 |  8   |\n",
      "|  24973  |  29471   | 0.038490021228790285 |  9   |\n",
      "|  24973  |   5553   | 0.038490021228790285 |  10  |\n",
      "|  14860  |   243    | 0.06301330626010895  |  1   |\n",
      "|  14860  |  27515   | 0.06301330626010895  |  2   |\n",
      "|  14860  |  12500   | 0.06301330626010895  |  3   |\n",
      "|  14860  |  27553   | 0.06301330626010895  |  4   |\n",
      "|  14860  |  25883   | 0.06301330626010895  |  5   |\n",
      "+---------+----------+----------------------+------+\n",
      "[20430 rows x 4 columns]\n",
      "\n"
     ]
    }
   ],
   "source": [
    "#Training the model\n",
    "m2 = turicreate.item_similarity_recommender.create(training_data,'venue_id','user_id',similarity_type='cosine')\n",
    "\n",
    "#Making recommendations\n",
    "item_sim_recomm = item_sim_model.recommend()\n",
    "item_sim_recomm.print_rows(num_rows=25)"
   ]
  },
  {
   "cell_type": "code",
   "execution_count": null,
   "metadata": {},
   "outputs": [],
   "source": []
  },
  {
   "cell_type": "code",
   "execution_count": 7,
   "metadata": {},
   "outputs": [
    {
     "data": {
      "text/html": [
       "<pre>Preparing data set.</pre>"
      ],
      "text/plain": [
       "Preparing data set."
      ]
     },
     "metadata": {},
     "output_type": "display_data"
    },
    {
     "data": {
      "text/html": [
       "<pre>    Data has 24537 observations with 2043 users and 2851 items.</pre>"
      ],
      "text/plain": [
       "    Data has 24537 observations with 2043 users and 2851 items."
      ]
     },
     "metadata": {},
     "output_type": "display_data"
    },
    {
     "data": {
      "text/html": [
       "<pre>    Data prepared in: 0.047913s</pre>"
      ],
      "text/plain": [
       "    Data prepared in: 0.047913s"
      ]
     },
     "metadata": {},
     "output_type": "display_data"
    },
    {
     "data": {
      "text/html": [
       "<pre>Training model from provided data.</pre>"
      ],
      "text/plain": [
       "Training model from provided data."
      ]
     },
     "metadata": {},
     "output_type": "display_data"
    },
    {
     "data": {
      "text/html": [
       "<pre>Gathering per-item and per-user statistics.</pre>"
      ],
      "text/plain": [
       "Gathering per-item and per-user statistics."
      ]
     },
     "metadata": {},
     "output_type": "display_data"
    },
    {
     "data": {
      "text/html": [
       "<pre>+--------------------------------+------------+</pre>"
      ],
      "text/plain": [
       "+--------------------------------+------------+"
      ]
     },
     "metadata": {},
     "output_type": "display_data"
    },
    {
     "data": {
      "text/html": [
       "<pre>| Elapsed Time (Item Statistics) | % Complete |</pre>"
      ],
      "text/plain": [
       "| Elapsed Time (Item Statistics) | % Complete |"
      ]
     },
     "metadata": {},
     "output_type": "display_data"
    },
    {
     "data": {
      "text/html": [
       "<pre>+--------------------------------+------------+</pre>"
      ],
      "text/plain": [
       "+--------------------------------+------------+"
      ]
     },
     "metadata": {},
     "output_type": "display_data"
    },
    {
     "data": {
      "text/html": [
       "<pre>| 4.059ms                        | 48.75      |</pre>"
      ],
      "text/plain": [
       "| 4.059ms                        | 48.75      |"
      ]
     },
     "metadata": {},
     "output_type": "display_data"
    },
    {
     "data": {
      "text/html": [
       "<pre>| 4.524ms                        | 100        |</pre>"
      ],
      "text/plain": [
       "| 4.524ms                        | 100        |"
      ]
     },
     "metadata": {},
     "output_type": "display_data"
    },
    {
     "data": {
      "text/html": [
       "<pre>+--------------------------------+------------+</pre>"
      ],
      "text/plain": [
       "+--------------------------------+------------+"
      ]
     },
     "metadata": {},
     "output_type": "display_data"
    },
    {
     "data": {
      "text/html": [
       "<pre>Setting up lookup tables.</pre>"
      ],
      "text/plain": [
       "Setting up lookup tables."
      ]
     },
     "metadata": {},
     "output_type": "display_data"
    },
    {
     "data": {
      "text/html": [
       "<pre>Processing data in one pass using dense lookup tables.</pre>"
      ],
      "text/plain": [
       "Processing data in one pass using dense lookup tables."
      ]
     },
     "metadata": {},
     "output_type": "display_data"
    },
    {
     "data": {
      "text/html": [
       "<pre>+-------------------------------------+------------------+-----------------+</pre>"
      ],
      "text/plain": [
       "+-------------------------------------+------------------+-----------------+"
      ]
     },
     "metadata": {},
     "output_type": "display_data"
    },
    {
     "data": {
      "text/html": [
       "<pre>| Elapsed Time (Constructing Lookups) | Total % Complete | Items Processed |</pre>"
      ],
      "text/plain": [
       "| Elapsed Time (Constructing Lookups) | Total % Complete | Items Processed |"
      ]
     },
     "metadata": {},
     "output_type": "display_data"
    },
    {
     "data": {
      "text/html": [
       "<pre>+-------------------------------------+------------------+-----------------+</pre>"
      ],
      "text/plain": [
       "+-------------------------------------+------------------+-----------------+"
      ]
     },
     "metadata": {},
     "output_type": "display_data"
    },
    {
     "data": {
      "text/html": [
       "<pre>| 60.907ms                            | 0                | 0               |</pre>"
      ],
      "text/plain": [
       "| 60.907ms                            | 0                | 0               |"
      ]
     },
     "metadata": {},
     "output_type": "display_data"
    },
    {
     "data": {
      "text/html": [
       "<pre>| 126.178ms                           | 100              | 2851            |</pre>"
      ],
      "text/plain": [
       "| 126.178ms                           | 100              | 2851            |"
      ]
     },
     "metadata": {},
     "output_type": "display_data"
    },
    {
     "data": {
      "text/html": [
       "<pre>+-------------------------------------+------------------+-----------------+</pre>"
      ],
      "text/plain": [
       "+-------------------------------------+------------------+-----------------+"
      ]
     },
     "metadata": {},
     "output_type": "display_data"
    },
    {
     "data": {
      "text/html": [
       "<pre>Finalizing lookup tables.</pre>"
      ],
      "text/plain": [
       "Finalizing lookup tables."
      ]
     },
     "metadata": {},
     "output_type": "display_data"
    },
    {
     "data": {
      "text/html": [
       "<pre>Generating candidate set for working with new users.</pre>"
      ],
      "text/plain": [
       "Generating candidate set for working with new users."
      ]
     },
     "metadata": {},
     "output_type": "display_data"
    },
    {
     "name": "stdout",
     "output_type": "stream",
     "text": [
      "PROGRESS: Evaluate model m1\n"
     ]
    },
    {
     "data": {
      "text/html": [
       "<pre>Finished training in 0.130293s</pre>"
      ],
      "text/plain": [
       "Finished training in 0.130293s"
      ]
     },
     "metadata": {},
     "output_type": "display_data"
    },
    {
     "name": "stderr",
     "output_type": "stream",
     "text": [
      "WARNING:root:Model trained without a target. Skipping RMSE computation.\n"
     ]
    },
    {
     "name": "stdout",
     "output_type": "stream",
     "text": [
      "\n",
      "Precision and recall summary statistics by cutoff\n",
      "+--------+------------------------+-----------------------+\n",
      "| cutoff |     mean_precision     |      mean_recall      |\n",
      "+--------+------------------------+-----------------------+\n",
      "|   1    |          0.0           |          0.0          |\n",
      "|   2    |          0.0           |          0.0          |\n",
      "|   3    |          0.0           |          0.0          |\n",
      "|   4    | 0.00033783783783783786 | 0.0006756756756756757 |\n",
      "|   5    | 0.00027027027027027044 | 0.0006756756756756757 |\n",
      "|   6    | 0.0004504504504504509  | 0.0013513513513513516 |\n",
      "|   7    | 0.0003861003861003862  | 0.0013513513513513516 |\n",
      "|   8    | 0.0003378378378378379  | 0.0013513513513513516 |\n",
      "|   9    | 0.00030030030030030056 | 0.0013513513513513516 |\n",
      "|   10   | 0.0004054054054054055  | 0.0020270270270270297 |\n",
      "+--------+------------------------+-----------------------+\n",
      "[10 rows x 3 columns]\n",
      "\n",
      "PROGRESS: Evaluate model m2\n"
     ]
    },
    {
     "data": {
      "text/html": [
       "<pre>recommendations finished on 1000/1295 queries. users per second: 45210</pre>"
      ],
      "text/plain": [
       "recommendations finished on 1000/1295 queries. users per second: 45210"
      ]
     },
     "metadata": {},
     "output_type": "display_data"
    },
    {
     "name": "stderr",
     "output_type": "stream",
     "text": [
      "WARNING:root:Model trained without a target. Skipping RMSE computation.\n"
     ]
    },
    {
     "name": "stdout",
     "output_type": "stream",
     "text": [
      "\n",
      "Precision and recall summary statistics by cutoff\n",
      "+--------+------------------------+------------------------+\n",
      "| cutoff |     mean_precision     |      mean_recall       |\n",
      "+--------+------------------------+------------------------+\n",
      "|   1    | 0.0007722007722007724  | 0.00025740025740025744 |\n",
      "|   2    | 0.0003861003861003862  | 0.00025740025740025744 |\n",
      "|   3    | 0.00025740025740025744 | 0.00025740025740025744 |\n",
      "|   4    | 0.0001930501930501931  | 0.00025740025740025744 |\n",
      "|   5    | 0.00015444015444015467 | 0.0002574002574002574  |\n",
      "|   6    | 0.0002574002574002574  | 0.0010296010296010295  |\n",
      "|   7    | 0.0003309431880860449  | 0.0018018018018018025  |\n",
      "|   8    | 0.0002895752895752898  | 0.0018018018018018025  |\n",
      "|   9    | 0.00034320034320034314 |  0.001956241956241953  |\n",
      "|   10   | 0.0003088803088803094  |  0.001956241956241953  |\n",
      "+--------+------------------------+------------------------+\n",
      "[10 rows x 3 columns]\n",
      "\n"
     ]
    },
    {
     "data": {
      "text/plain": [
       "[{'precision_recall_by_user': Columns:\n",
       "  \tuser_id\tint\n",
       "  \tcutoff\tint\n",
       "  \tprecision\tfloat\n",
       "  \trecall\tfloat\n",
       "  \tcount\tint\n",
       "  \n",
       "  Rows: 13320\n",
       "  \n",
       "  Data:\n",
       "  +---------+--------+-----------+--------+-------+\n",
       "  | user_id | cutoff | precision | recall | count |\n",
       "  +---------+--------+-----------+--------+-------+\n",
       "  |    72   |   1    |    0.0    |  0.0   |   4   |\n",
       "  |    72   |   2    |    0.0    |  0.0   |   4   |\n",
       "  |    72   |   3    |    0.0    |  0.0   |   4   |\n",
       "  |    72   |   4    |    0.0    |  0.0   |   4   |\n",
       "  |    72   |   5    |    0.0    |  0.0   |   4   |\n",
       "  |    72   |   6    |    0.0    |  0.0   |   4   |\n",
       "  |    72   |   7    |    0.0    |  0.0   |   4   |\n",
       "  |    72   |   8    |    0.0    |  0.0   |   4   |\n",
       "  |    72   |   9    |    0.0    |  0.0   |   4   |\n",
       "  |    72   |   10   |    0.0    |  0.0   |   4   |\n",
       "  +---------+--------+-----------+--------+-------+\n",
       "  [13320 rows x 5 columns]\n",
       "  Note: Only the head of the SFrame is printed.\n",
       "  You can use print_rows(num_rows=m, num_columns=n) to print more rows and columns.,\n",
       "  'precision_recall_overall': Columns:\n",
       "  \tcutoff\tint\n",
       "  \tprecision\tfloat\n",
       "  \trecall\tfloat\n",
       "  \n",
       "  Rows: 18\n",
       "  \n",
       "  Data:\n",
       "  +--------+------------------------+-----------------------+\n",
       "  | cutoff |       precision        |         recall        |\n",
       "  +--------+------------------------+-----------------------+\n",
       "  |   1    |          0.0           |          0.0          |\n",
       "  |   2    |          0.0           |          0.0          |\n",
       "  |   3    |          0.0           |          0.0          |\n",
       "  |   4    | 0.00033783783783783775 | 0.0006756756756756755 |\n",
       "  |   5    | 0.00027027027027027044 | 0.0006756756756756755 |\n",
       "  |   6    | 0.00045045045045045165 | 0.0013513513513513514 |\n",
       "  |   7    | 0.00038610038610038626 | 0.0013513513513513514 |\n",
       "  |   8    | 0.00033783783783783786 | 0.0013513513513513514 |\n",
       "  |   9    | 0.0003003003003003008  | 0.0013513513513513514 |\n",
       "  |   10   | 0.0004054054054054054  | 0.0020270270270270284 |\n",
       "  +--------+------------------------+-----------------------+\n",
       "  [18 rows x 3 columns]\n",
       "  Note: Only the head of the SFrame is printed.\n",
       "  You can use print_rows(num_rows=m, num_columns=n) to print more rows and columns.},\n",
       " {'precision_recall_by_user': Columns:\n",
       "  \tvenue_id\tint\n",
       "  \tcutoff\tint\n",
       "  \tprecision\tfloat\n",
       "  \trecall\tfloat\n",
       "  \tcount\tint\n",
       "  \n",
       "  Rows: 23310\n",
       "  \n",
       "  Data:\n",
       "  +----------+--------+-----------+--------+-------+\n",
       "  | venue_id | cutoff | precision | recall | count |\n",
       "  +----------+--------+-----------+--------+-------+\n",
       "  |    20    |   1    |    0.0    |  0.0   |   3   |\n",
       "  |    20    |   2    |    0.0    |  0.0   |   3   |\n",
       "  |    20    |   3    |    0.0    |  0.0   |   3   |\n",
       "  |    20    |   4    |    0.0    |  0.0   |   3   |\n",
       "  |    20    |   5    |    0.0    |  0.0   |   3   |\n",
       "  |    20    |   6    |    0.0    |  0.0   |   3   |\n",
       "  |    20    |   7    |    0.0    |  0.0   |   3   |\n",
       "  |    20    |   8    |    0.0    |  0.0   |   3   |\n",
       "  |    20    |   9    |    0.0    |  0.0   |   3   |\n",
       "  |    20    |   10   |    0.0    |  0.0   |   3   |\n",
       "  +----------+--------+-----------+--------+-------+\n",
       "  [23310 rows x 5 columns]\n",
       "  Note: Only the head of the SFrame is printed.\n",
       "  You can use print_rows(num_rows=m, num_columns=n) to print more rows and columns.,\n",
       "  'precision_recall_overall': Columns:\n",
       "  \tcutoff\tint\n",
       "  \tprecision\tfloat\n",
       "  \trecall\tfloat\n",
       "  \n",
       "  Rows: 18\n",
       "  \n",
       "  Data:\n",
       "  +--------+------------------------+-----------------------+\n",
       "  | cutoff |       precision        |         recall        |\n",
       "  +--------+------------------------+-----------------------+\n",
       "  |   1    | 0.0007722007722007736  | 0.0002574002574002574 |\n",
       "  |   2    | 0.0003861003861003868  | 0.0002574002574002574 |\n",
       "  |   3    | 0.0002574002574002574  | 0.0002574002574002574 |\n",
       "  |   4    | 0.0001930501930501934  | 0.0002574002574002574 |\n",
       "  |   5    | 0.00015444015444015475 | 0.0002574002574002574 |\n",
       "  |   6    | 0.0002574002574002574  | 0.0010296010296010297 |\n",
       "  |   7    | 0.0003309431880860447  | 0.0018018018018018018 |\n",
       "  |   8    | 0.00028957528957528994 | 0.0018018018018018018 |\n",
       "  |   9    | 0.00034320034320034303 |  0.001956241956241954 |\n",
       "  |   10   | 0.00030888030888030933 | 0.0019562419562419537 |\n",
       "  +--------+------------------------+-----------------------+\n",
       "  [18 rows x 3 columns]\n",
       "  Note: Only the head of the SFrame is printed.\n",
       "  You can use print_rows(num_rows=m, num_columns=n) to print more rows and columns.}]"
      ]
     },
     "execution_count": 7,
     "metadata": {},
     "output_type": "execute_result"
    }
   ],
   "source": [
    "#Training the model\n",
    "m1 = turicreate.item_similarity_recommender.create(training_data,'user_id', item_id='venue_id',similarity_type='cosine')\n",
    "\n",
    "\n",
    "turicreate.recommender.util.compare_models(validation_data, [m1, m2], model_names=[\"m1\", \"m2\"])"
   ]
  },
  {
   "cell_type": "code",
   "execution_count": null,
   "metadata": {},
   "outputs": [],
   "source": []
  }
 ],
 "metadata": {
  "kernelspec": {
   "display_name": "Python 3",
   "language": "python",
   "name": "python3"
  },
  "language_info": {
   "codemirror_mode": {
    "name": "ipython",
    "version": 3
   },
   "file_extension": ".py",
   "mimetype": "text/x-python",
   "name": "python",
   "nbconvert_exporter": "python",
   "pygments_lexer": "ipython3",
   "version": "3.6.5"
  }
 },
 "nbformat": 4,
 "nbformat_minor": 2
}
